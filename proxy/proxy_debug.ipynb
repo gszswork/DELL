{
 "cells": [
  {
   "cell_type": "code",
   "execution_count": 25,
   "id": "dbcff6eb-8723-4108-aaa9-9414cddaaef1",
   "metadata": {},
   "outputs": [],
   "source": [
    "import json\n",
    "import nltk\n",
    "\n",
    "\n",
    "dataset_names = {\n",
    "    'TASK1': ['twitter19', 'weibo19'],\n",
    "}\n",
    "\n",
    "\n",
    "def main():\n",
    "    wikis = []\n",
    "    for task in dataset_names:\n",
    "        for dataset in dataset_names[task]:\n",
    "            data = json.load(open(f'../data/datasets/{task}/{dataset}.json'))\n",
    "            wiki = json.load(open(f'../data/proxy/entity_from_wiki/n_{task}_{dataset}.json'))\n",
    "            wikis.append(wiki)\n",
    "    return wikis"
   ]
  },
  {
   "cell_type": "code",
   "execution_count": 26,
   "id": "622c4e9a-bcb2-41a8-aa74-c853ec40d13f",
   "metadata": {},
   "outputs": [],
   "source": [
    "wikis = main()"
   ]
  },
  {
   "cell_type": "code",
   "execution_count": 30,
   "id": "5b1264b3-a752-47ba-9e61-6da2bd44731a",
   "metadata": {},
   "outputs": [],
   "source": [
    "twi19_wiki, weibo19_wiki = wikis[0], wikis[1]\n",
    "\n",
    "new_twi19_wiki, new_weibo19_wiki = [], []\n",
    "\n",
    "\n",
    "for idx in range(len(twi19_wiki)):\n",
    "    each_wiki = twi19_wiki[idx]\n",
    "    new_each_wiki = [item for item in each_wiki if item is not None]\n",
    "    twi19_wiki[idx] = new_each_wiki\n",
    "\n",
    "\n",
    "for idx in range(len(weibo19_wiki)):\n",
    "    each_wiki = weibo19_wiki[idx]\n",
    "    new_each_wiki = [item for item in each_wiki if item is not None]\n",
    "    weibo19_wiki[idx] = new_each_wiki"
   ]
  },
  {
   "cell_type": "code",
   "execution_count": 33,
   "id": "0be55f30-10f1-42e8-aedf-abe8f0586a08",
   "metadata": {},
   "outputs": [],
   "source": [
    "save_dir = '../data/proxy/retrieval/'\n",
    "json.dump(twi19_wiki, open(save_dir+'TASK1_twitter19.json', 'w'))\n",
    "json.dump(weibo19_wiki, open(save_dir+'TASK1_weibo19.json', 'w'))\n"
   ]
  },
  {
   "cell_type": "code",
   "execution_count": 12,
   "id": "11827d0e-b747-4489-a84a-264087b34f10",
   "metadata": {},
   "outputs": [],
   "source": [
    "retrieval = json.load(open('../data/proxy/retrieval/TASK1_twitter19.json'))"
   ]
  },
  {
   "cell_type": "raw",
   "id": "ff00192e-ec1a-4058-891a-2b866c3eb42b",
   "metadata": {},
   "source": [
    "Get the fail reason: \n",
    "Some wiki items are None, and you're performing \n",
    "`\n",
    "for entity, exp in each_wiki:\n",
    "`\n",
    "\n",
    "None cannot be splited into entity and exp anymore. "
   ]
  },
  {
   "cell_type": "code",
   "execution_count": 14,
   "id": "c67e94cc-7fcc-47db-ad80-6dce83806175",
   "metadata": {},
   "outputs": [],
   "source": [
    "# twitter 19 fail ids: \n",
    "\n",
    "twi19_fail_ids = [11, 23, 26, 29, 46, 54, 87, 93, 95, 98, 101, 135, 148, 150, 157, 176, 177, 183, 188, 192, 199, 202, 209, 234, 237, 252, 254, 283, 300, 310, 318, 320, 328, 351, 356, 367, 375, 386]\n",
    "\n"
   ]
  },
  {
   "cell_type": "code",
   "execution_count": 19,
   "id": "ee2964e2-97f5-4728-a1c8-603320624e97",
   "metadata": {
    "scrolled": true
   },
   "outputs": [
    {
     "name": "stdout",
     "output_type": "stream",
     "text": [
      "[\"'no..one...cleans\", \"The One Clean Qubit  model of computation is performed an \\n  \\n    \\n      \\n        n\\n      \\n    \\n    {\\\\displaystyle n}\\n  \\n qubit system with one pure state and \\n  \\n    \\n      \\n        n\\n        −\\n        1\\n      \\n    \\n    {\\\\displaystyle n-1}\\n  \\n maximally mixed states. This model was motivated by highly mixed states that are prevalent in Nuclear magnetic resonance quantum computers. It's described by the density matrix \\n  \\n    \\n      \\n        ρ\\n        =\\n        \\n          |\\n          0\\n          ⟩\\n        \\n        ⟨\\n        0\\n        \\n          |\\n        \\n        ⊗\\n        \\n          \\n            I\\n            \\n              2\\n              \\n                n\\n                −\\n                1\\n              \\n            \\n          \\n        \\n      \\n    \\n    {\\\\displaystyle \\\\rho =\\\\left|0\\\\right\\\\rangle \\\\langle 0|\\\\otimes {\\\\frac {I}{2^{n-1}}}}\\n  \\n, where \\n  \\n    \\n      \\n        I\\n      \\n    \\n    {\\\\displaystyle I}\\n  \\n is the identity matrix. In computational complexity theory, DQC1; also known as the  Deterministic quantum computation with one clean qubit is the class of decision problems solvable by a one clean qubit machine in polynomial time, upon measuring the first qubit, with an error probability of at most 1/poly(n) for all instances.\"]\n",
      "None\n",
      "None\n",
      "['like Gaston', 'Gaston is a fictional character and the main antagonist of Walt Disney Pictures\\' animated film Beauty and the Beast (1991). Voiced by American actor and singer Richard White, Gaston is an arrogant and ruthless hunter whose unrequited feelings for the intellectual Belle drive him to murder his adversary, the Beast, once he realizes she cares for him instead. Gaston serves as a foil personality to the Beast, who was once as vain as Gaston prior to his transformation.\\nGaston is a character original to Disney, as he is not present in the original fairy tale. Imagined by screenwriter Linda Woolverton, who based the character on the ex-boyfriends she dated in her past, Gaston was developed specifically for Disney\\'s adaptation of Beauty and the Beast because the studio felt that the film could benefit from a strong villain, who is lacking in the original story. As the character evolves from a non-threatening aristocrat into an arrogant man relentlessly seeking Belle\\'s hand in marriage, Gaston ultimately replaced a female relative of Belle\\'s who the filmmakers had originally created to serve as the film\\'s villain.\\nIn direct contrast to his adversary the Beast, Gaston is depicted as physically handsome with an unattractive personality, both physically and emotionally embodying hypermasculinity. Both Disney and supervising animator Andreas Deja initially struggled with the concept of animating a handsome villain, which had never been attempted by the studio before. Deja ultimately based Gaston\\'s appearance on those of handsome soap opera actors in order to create a grotesque version of the Prince Charming stock character, while some of White\\'s own operatic mannerisms were incorporated into the character.\\nGaston has been generally positively received by film critics, as his lack of \"magic power or political influence\" means that his villainy tends to resonate with audiences who often identify someone similar to him in real life, although some critics regard him as a less memorable villain than some of the studio\\'s previous efforts. Considered to be one of Disney\\'s most famous villains, Gaston is frequently ranked within the top-tens of Disney villain rankings released by several media publications.']\n"
     ]
    }
   ],
   "source": [
    "for each_wiki in twi19_wiki[11]: \n",
    "    print(each_wiki)"
   ]
  },
  {
   "cell_type": "code",
   "execution_count": null,
   "id": "a505c305-23f9-4635-bfb8-adad3d011cdb",
   "metadata": {},
   "outputs": [],
   "source": []
  }
 ],
 "metadata": {
  "kernelspec": {
   "display_name": "Python 3 (ipykernel)",
   "language": "python",
   "name": "python3"
  },
  "language_info": {
   "codemirror_mode": {
    "name": "ipython",
    "version": 3
   },
   "file_extension": ".py",
   "mimetype": "text/x-python",
   "name": "python",
   "nbconvert_exporter": "python",
   "pygments_lexer": "ipython3",
   "version": "3.12.8"
  }
 },
 "nbformat": 4,
 "nbformat_minor": 5
}
